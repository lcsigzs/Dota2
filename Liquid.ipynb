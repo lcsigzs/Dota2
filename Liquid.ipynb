{
 "cells": [
  {
   "cell_type": "code",
   "execution_count": 1,
   "id": "79d80d43-42b8-451a-aa70-bedc1ef1d765",
   "metadata": {},
   "outputs": [],
   "source": [
    "import requests\n",
    "import pandas as pd\n",
    "import seaborn as sns\n",
    "import matplotlib.pyplot as plt\n",
    "import collections  "
   ]
  },
  {
   "cell_type": "code",
   "execution_count": 5,
   "id": "45905434-40d6-467b-b28b-1a6114d351eb",
   "metadata": {},
   "outputs": [],
   "source": [
    "url = f\"https://api.opendota.com/api/teams\"\n",
    "response = requests.get(url)\n",
    "teams_data = response.json()"
   ]
  },
  {
   "cell_type": "code",
   "execution_count": 6,
   "id": "2ea32c62-813e-4baf-841b-c81d46094a11",
   "metadata": {},
   "outputs": [
    {
     "name": "stdout",
     "output_type": "stream",
     "text": [
      "2163\n"
     ]
    }
   ],
   "source": [
    "tl_id = []\n",
    "for teams in teams_data: \n",
    "    if teams['name'] == 'Team Liquid': \n",
    "        tl_id = teams['team_id']\n",
    "        print(tl_id)"
   ]
  },
  {
   "cell_type": "code",
   "execution_count": 7,
   "id": "b7b639a6-29dd-4902-a35a-9c3b490807c1",
   "metadata": {},
   "outputs": [],
   "source": [
    "def team_info(tl_id):\n",
    "    url = f\"https://api.opendota.com/api/teams/{tl_id}\"\n",
    "    response = requests.get(url)\n",
    "    return response.json()"
   ]
  },
  {
   "cell_type": "code",
   "execution_count": 8,
   "id": "272f5038-c729-4a03-98a6-13816bec0f37",
   "metadata": {},
   "outputs": [
    {
     "name": "stdout",
     "output_type": "stream",
     "text": [
      "A Falcons tem 59.7% de WinRate\n"
     ]
    }
   ],
   "source": [
    "def win_rate(tl_id):\n",
    "    team_data = team_info(tl_id)\n",
    "    wins = team_data['wins']\n",
    "    losses = team_data['losses']\n",
    "    total = wins + losses\n",
    "    win_rate = (wins / total) * 100 if total > 0 else 0\n",
    "    return round(win_rate, 1)\n",
    "print(f\"A Falcons tem {win_rate(tl_id)}% de WinRate\")"
   ]
  },
  {
   "cell_type": "code",
   "execution_count": 9,
   "id": "9375df7b-2ae7-4c33-b58c-7e5de05df74e",
   "metadata": {},
   "outputs": [],
   "source": [
    "def get_matches(tl_id):\n",
    "    url = f\"https://api.opendota.com/api/teams/{tl_id}/matches\"\n",
    "    response = requests.get(url)\n",
    "    matches = response.json()\n",
    "    return matches[:4]"
   ]
  },
  {
   "cell_type": "code",
   "execution_count": 10,
   "id": "74a3d536-11ac-40e2-9c67-b07a48c50cae",
   "metadata": {},
   "outputs": [],
   "source": [
    "matches = get_matches(tl_id)"
   ]
  },
  {
   "cell_type": "code",
   "execution_count": 11,
   "id": "4030b0b1-961e-4de0-8b78-59422b33321d",
   "metadata": {},
   "outputs": [],
   "source": [
    "def format_duration(duration):\n",
    "    hours = duration // 3600             \n",
    "    minutes = (duration % 3600) // 60    \n",
    "    seconds = duration % 60    \n",
    "    if hours > 0:\n",
    "        return f\"{hours}h {minutes}m {seconds}s\"\n",
    "    else:\n",
    "        return f\"{minutes}m {seconds}s\""
   ]
  },
  {
   "cell_type": "code",
   "execution_count": 12,
   "id": "248e985c-b63a-40e7-a6f5-12f24ae74781",
   "metadata": {},
   "outputs": [],
   "source": [
    "def team_side(match):\n",
    "    if match['radiant']:\n",
    "        return True  \n",
    "    else:\n",
    "        return False"
   ]
  },
  {
   "cell_type": "code",
   "execution_count": 13,
   "id": "7f86302f-c838-4a5e-b54c-af3682d7f930",
   "metadata": {},
   "outputs": [
    {
     "name": "stdout",
     "output_type": "stream",
     "text": [
      "Resultado: Vitória, Duração: 32m 50s\n",
      "Resultado: Derrota, Duração: 38m 34s\n",
      "Resultado: Vitória, Duração: 35m 21s\n",
      "Resultado: Derrota, Duração: 46m 22s\n"
     ]
    }
   ],
   "source": [
    "for match in matches:\n",
    "    is_radiant = team_side(match)\n",
    "    if (is_radiant and match['radiant_win']) or (not is_radiant and not match['radiant_win']):\n",
    "        resultado = 'Vitória'\n",
    "    else:\n",
    "        resultado = 'Derrota'\n",
    "    duration_formatted = format_duration(match['duration'])\n",
    "    print(f\"Resultado: {resultado}, Duração: {duration_formatted}\")"
   ]
  },
  {
   "cell_type": "code",
   "execution_count": 14,
   "id": "bd7513d3-9c1c-4d57-943d-e40dd1b79056",
   "metadata": {},
   "outputs": [],
   "source": [
    "match_ids = []\n",
    "for match in matches:\n",
    "    match_ids.append(match['match_id']) "
   ]
  },
  {
   "cell_type": "code",
   "execution_count": 15,
   "id": "2f3f994b-f6eb-462a-a482-5a6698bac1da",
   "metadata": {},
   "outputs": [
    {
     "name": "stdout",
     "output_type": "stream",
     "text": [
      "A partida 1 teve 50 abates\n",
      "A Tundra teve 30 kills\n",
      "O outro time teve 20 kills\n",
      "A partida 2 teve 39 abates\n",
      "A Tundra teve 11 kills\n",
      "O outro time teve 28 kills\n",
      "A partida 3 teve 46 abates\n",
      "A Tundra teve 31 kills\n",
      "O outro time teve 15 kills\n",
      "A partida 4 teve 59 abates\n",
      "A Tundra teve 26 kills\n",
      "O outro time teve 33 kills\n",
      "Media de kils nas ultimas 4 partidas foi de 48.5 kils\n",
      "Total de kills em todas as partidas: 194\n"
     ]
    }
   ],
   "source": [
    "count = 0\n",
    "count1 = 1\n",
    "total_kils = 0\n",
    "\n",
    "for match in matches:\n",
    "    is_radiant = team_side(match)\n",
    "    radiant_score = match['radiant_score']\n",
    "    dire_score = match['dire_score']\n",
    "    total_score_match = radiant_score + dire_score\n",
    "    total_kils += total_score_match \n",
    "    print(f\"A partida {count1} teve {total_score_match} abates\")\n",
    "    if is_radiant == True:\n",
    "        print(f\"A Tundra teve {radiant_score} kills\")\n",
    "        print(f\"O outro time teve {dire_score} kills\")\n",
    "    \n",
    "    elif is_radiant == False:\n",
    "        print(f\"A Tundra teve {dire_score} kills\")\n",
    "        print(f\"O outro time teve {radiant_score} kills\")\n",
    "\n",
    "    count += 1\n",
    "    count1 += 1\n",
    "    \n",
    "media = (total_kils/count)\n",
    "print(f\"Media de kils nas ultimas {count} partidas foi de {media} kils\")\n",
    "print(f\"Total de kills em todas as partidas: {total_kils}\")"
   ]
  },
  {
   "cell_type": "code",
   "execution_count": 16,
   "id": "2762f47f-8d46-4f0a-9341-642ce97d8b6f",
   "metadata": {},
   "outputs": [
    {
     "name": "stdout",
     "output_type": "stream",
     "text": [
      "O tempo total de duracao das partidas foi de 2h 33m 7s\n",
      "A media de tempo de cada partida foi de 38.0m 16.75s\n"
     ]
    }
   ],
   "source": [
    "total_duration = 0\n",
    "for match in matches:\n",
    "    total_duration += match['duration']  \n",
    "media = total_duration / 4\n",
    "print(f\"O tempo total de duracao das partidas foi de {format_duration(total_duration)}\")  \n",
    "print(f\"A media de tempo de cada partida foi de {format_duration(media)}\")  "
   ]
  },
  {
   "cell_type": "code",
   "execution_count": 17,
   "id": "df2445cb-26d2-4ceb-8144-361d04ccc273",
   "metadata": {},
   "outputs": [],
   "source": [
    "def get_match_detail(match_ids):\n",
    "    url = f\"https://api.opendota.com/api/matches/{match_id}\"\n",
    "    response = requests.get(url)\n",
    "    return response.json()"
   ]
  },
  {
   "cell_type": "code",
   "execution_count": 18,
   "id": "1c7e72df-da35-44a3-ae76-66f35ffc7ed3",
   "metadata": {},
   "outputs": [],
   "source": [
    "url = f'https://api.opendota.com/api/teams/{tl_id}/players'\n",
    "response = requests.get(url) \n",
    "players1 = response.json()\n",
    "players_name = []\n",
    "for player in players1:\n",
    "    account_id = player.get('name')\n",
    "    in_team = player.get(\"is_current_team_member\")\n",
    "    if account_id and in_team == True:\n",
    "        players_name.append(account_id)"
   ]
  },
  {
   "cell_type": "code",
   "execution_count": 19,
   "id": "ff349b21-5292-45db-9a8b-c8210217597a",
   "metadata": {},
   "outputs": [
    {
     "name": "stdout",
     "output_type": "stream",
     "text": [
      "O jogador Insania  tem uma média de 2.77 de KDA.\n",
      " - Média de kills: 2.25\n",
      " - Média de mortes: 6.25\n",
      " - Média de assistências: 12.75\n",
      "O jogador m1CKe tem uma média de 8.03 de KDA.\n",
      " - Média de kills: 7.75\n",
      " - Média de mortes: 3.75\n",
      " - Média de assistências: 8.25\n",
      "O jogador Boxi tem uma média de 3.49 de KDA.\n",
      " - Média de kills: 4.25\n",
      " - Média de mortes: 6.75\n",
      " - Média de assistências: 15.75\n",
      "O jogador Nisha tem uma média de 5.04 de KDA.\n",
      " - Média de kills: 5.00\n",
      " - Média de mortes: 3.25\n",
      " - Média de assistências: 11.25\n",
      "O jogador El SaberLightO tem uma média de 5.38 de KDA.\n",
      " - Média de kills: 4.75\n",
      " - Média de mortes: 4.25\n",
      " - Média de assistências: 15.50\n"
     ]
    }
   ],
   "source": [
    "mean_kda = {player_name: [] for player_name in players_name} \n",
    "mean_kills = {player_name: [] for player_name in players_name} \n",
    "mean_deaths = {player_name: [] for player_name in players_name} \n",
    "mean_assists = {player_name: [] for player_name in players_name} \n",
    "\n",
    "for match_id in match_ids:\n",
    "    match_data = get_match_detail(match_id)\n",
    "    players = match_data['players']\n",
    "    \n",
    "    for player in players:\n",
    "        jogador_nome = player.get('name', 'Desconhecido')\n",
    "        if jogador_nome in players_name:\n",
    "            kills = player['kills']\n",
    "            deaths = player['deaths']\n",
    "            assists = player['assists']\n",
    "            kda = (kills + assists) / (deaths if deaths > 0 else 1) \n",
    "\n",
    "            mean_kda[jogador_nome].append(kda)\n",
    "            mean_kills[jogador_nome].append(kills)\n",
    "            mean_deaths[jogador_nome].append(deaths)\n",
    "            mean_assists[jogador_nome].append(assists)\n",
    "\n",
    "\n",
    "for jogador_nome in players_name:\n",
    "    kda_lista = mean_kda[jogador_nome]\n",
    "    kills_lista = mean_kills[jogador_nome]\n",
    "    deaths_lista = mean_deaths[jogador_nome]\n",
    "    assists_lista = mean_assists[jogador_nome]\n",
    "    \n",
    "    kda_medio = sum(kda_lista) / len(kda_lista) if kda_lista else 0\n",
    "    kills_medio = sum(kills_lista) / len(kills_lista) if kills_lista else 0\n",
    "    deaths_medio = sum(deaths_lista) / len(deaths_lista) if deaths_lista else 0\n",
    "    assists_medio = sum(assists_lista) / len(assists_lista) if assists_lista else 0\n",
    "    if kda_medio > 0:    \n",
    "        print(f\"O jogador {jogador_nome} tem uma média de {kda_medio:.2f} de KDA.\")\n",
    "        print(f\" - Média de kills: {kills_medio:.2f}\")\n",
    "        print(f\" - Média de mortes: {deaths_medio:.2f}\")\n",
    "        print(f\" - Média de assistências: {assists_medio:.2f}\")"
   ]
  },
  {
   "cell_type": "code",
   "execution_count": 20,
   "id": "c1f3d349-4042-47dc-aa1c-c5bb6b9b3540",
   "metadata": {},
   "outputs": [],
   "source": [
    "def get_hero_mapping():\n",
    "    url = \"https://api.opendota.com/api/heroes\"\n",
    "    response = requests.get(url)\n",
    "    heroes_data = response.json()\n",
    "    \n",
    "    hero_mapping = {hero['id']: hero['localized_name'] for hero in heroes_data}\n",
    "    return hero_mapping\n",
    "\n",
    "hero_mapping = get_hero_mapping()"
   ]
  },
  {
   "cell_type": "code",
   "execution_count": 21,
   "id": "6a6d6fad-8db0-4a6f-a811-8e104bf355bc",
   "metadata": {},
   "outputs": [
    {
     "name": "stdout",
     "output_type": "stream",
     "text": [
      "Heróis que mais apareceram nas últimas partidas:\n",
      "Herói Dark Willow apareceu 3 vezes.\n",
      "Herói Marci apareceu 3 vezes.\n",
      "Herói Clockwerk apareceu 3 vezes.\n",
      "Herói Muerta apareceu 3 vezes.\n",
      "Herói Earth Spirit apareceu 2 vezes.\n"
     ]
    }
   ],
   "source": [
    "hero_counter = collections.Counter()\n",
    "\n",
    "for match_id in match_ids:\n",
    "    match_data = get_match_detail(match_id)\n",
    "    players = match_data['players']\n",
    "    \n",
    "    for player in players:\n",
    "        hero_id = player['hero_id']\n",
    "        hero_counter[hero_id] += 1\n",
    "\n",
    "top_heroes = hero_counter.most_common(5)\n",
    "\n",
    "print(\"Heróis que mais apareceram nas últimas partidas:\")\n",
    "for hero_id, count in top_heroes:\n",
    "    hero_name = hero_mapping.get(hero_id, \"Desconhecido\")\n",
    "    print(f\"Herói {hero_name} apareceu {count} vezes.\")"
   ]
  },
  {
   "cell_type": "code",
   "execution_count": null,
   "id": "08f16fc9-a4af-4373-bc32-b6091993d9e4",
   "metadata": {},
   "outputs": [],
   "source": []
  }
 ],
 "metadata": {
  "kernelspec": {
   "display_name": "Python 3 (ipykernel)",
   "language": "python",
   "name": "python3"
  },
  "language_info": {
   "codemirror_mode": {
    "name": "ipython",
    "version": 3
   },
   "file_extension": ".py",
   "mimetype": "text/x-python",
   "name": "python",
   "nbconvert_exporter": "python",
   "pygments_lexer": "ipython3",
   "version": "3.12.4"
  }
 },
 "nbformat": 4,
 "nbformat_minor": 5
}
