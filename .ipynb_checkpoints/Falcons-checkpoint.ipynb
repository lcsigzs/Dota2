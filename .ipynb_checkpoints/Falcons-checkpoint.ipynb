{
 "cells": [
  {
   "cell_type": "code",
   "execution_count": 3,
   "id": "6db6f6fd-ccfe-4748-914e-b9f7043b0189",
   "metadata": {},
   "outputs": [],
   "source": [
    "import requests\n",
    "import pandas as pd\n",
    "import seaborn as sns\n",
    "import matplotlib.pyplot as plt\n",
    "import collections  "
   ]
  },
  {
   "cell_type": "code",
   "execution_count": 4,
   "id": "b3c3e4c0-e6c8-4cd6-8af5-bef85803a42e",
   "metadata": {},
   "outputs": [],
   "source": [
    "url = f\"https://api.opendota.com/api/teams\"\n",
    "response = requests.get(url)\n",
    "teams_data = response.json()"
   ]
  },
  {
   "cell_type": "code",
   "execution_count": 5,
   "id": "c92a153b-5ebc-4c82-bd0b-2c8616406d78",
   "metadata": {},
   "outputs": [],
   "source": [
    "falcons_id = []\n",
    "for teams in teams_data: \n",
    "    if teams['name'] == 'Team_Falcons': \n",
    "        heroic_id = teams['team_id']\n",
    "        print(falcons_id)"
   ]
  },
  {
   "cell_type": "code",
   "execution_count": null,
   "id": "95b36b83-bf76-43bc-9db0-fde4cfaac3d9",
   "metadata": {},
   "outputs": [],
   "source": [
    "Team falcons_id\n"
   ]
  }
 ],
 "metadata": {
  "kernelspec": {
   "display_name": "Python 3 (ipykernel)",
   "language": "python",
   "name": "python3"
  },
  "language_info": {
   "codemirror_mode": {
    "name": "ipython",
    "version": 3
   },
   "file_extension": ".py",
   "mimetype": "text/x-python",
   "name": "python",
   "nbconvert_exporter": "python",
   "pygments_lexer": "ipython3",
   "version": "3.12.4"
  }
 },
 "nbformat": 4,
 "nbformat_minor": 5
}
