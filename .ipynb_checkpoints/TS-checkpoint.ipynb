{
 "cells": [
  {
   "cell_type": "code",
   "execution_count": 1,
   "id": "9ef8ab35-0190-4a73-865f-79aabd6f2d1d",
   "metadata": {},
   "outputs": [],
   "source": [
    "import requests\n",
    "import pandas as pd\n",
    "import seaborn as sns\n",
    "import matplotlib.pyplot as plt\n",
    "import collections  "
   ]
  },
  {
   "cell_type": "code",
   "execution_count": 2,
   "id": "f1bcbe08-0da9-4b7f-b5f5-78e217a98a18",
   "metadata": {},
   "outputs": [],
   "source": [
    "url = f\"https://api.opendota.com/api/teams\"\n",
    "response = requests.get(url)\n",
    "teams_data = response.json()"
   ]
  },
  {
   "cell_type": "code",
   "execution_count": 3,
   "id": "3c99c92b-b8db-4734-a071-f51492ae3372",
   "metadata": {},
   "outputs": [
    {
     "name": "stdout",
     "output_type": "stream",
     "text": [
      "8291895\n"
     ]
    }
   ],
   "source": [
    "tundra_id = []\n",
    "for teams in teams_data: \n",
    "    if teams['name'] == 'Tundra Esports': \n",
    "        tundra_id = teams['team_id']\n",
    "        print(tundra_id)"
   ]
  },
  {
   "cell_type": "code",
   "execution_count": 4,
   "id": "6a85fd93-0c4e-4b58-87f4-b5dcd6f8fe00",
   "metadata": {},
   "outputs": [],
   "source": [
    "def team_info(tundra_id):\n",
    "    url = f\"https://api.opendota.com/api/teams/{tundra_id}\"\n",
    "    response = requests.get(url)\n",
    "    return response.json()"
   ]
  },
  {
   "cell_type": "code",
   "execution_count": 5,
   "id": "74ec9455-f83f-4333-bc9c-fd1417596403",
   "metadata": {},
   "outputs": [
    {
     "name": "stdout",
     "output_type": "stream",
     "text": [
      "A Falcons tem 61.4% de WinRate\n"
     ]
    }
   ],
   "source": [
    "def win_rate(tundra_id):\n",
    "    team_data = team_info(tundra_id)\n",
    "    wins = team_data['wins']\n",
    "    losses = team_data['losses']\n",
    "    total = wins + losses\n",
    "    win_rate = (wins / total) * 100 if total > 0 else 0\n",
    "    return round(win_rate, 1)\n",
    "print(f\"A Falcons tem {win_rate(tundra_id)}% de WinRate\")"
   ]
  },
  {
   "cell_type": "code",
   "execution_count": 6,
   "id": "7905447c-ace2-49bd-bcc1-6297afa3de2c",
   "metadata": {},
   "outputs": [],
   "source": [
    "def get_matches(tundra_id):\n",
    "    url = f\"https://api.opendota.com/api/teams/{tundra_id}/matches\"\n",
    "    response = requests.get(url)\n",
    "    matches = response.json()\n",
    "    return matches[:4]"
   ]
  },
  {
   "cell_type": "code",
   "execution_count": 10,
   "id": "6fdf2ca9-f681-43d3-8a21-02d94741af54",
   "metadata": {},
   "outputs": [],
   "source": [
    "matches = get_matches(tundra_id)"
   ]
  },
  {
   "cell_type": "code",
   "execution_count": 11,
   "id": "25eff041-d481-4144-a539-b20ef2bb5b08",
   "metadata": {},
   "outputs": [],
   "source": [
    "def format_duration(duration):\n",
    "    hours = duration // 3600             \n",
    "    minutes = (duration % 3600) // 60    \n",
    "    seconds = duration % 60    \n",
    "    if hours > 0:\n",
    "        return f\"{hours}h {minutes}m {seconds}s\"\n",
    "    else:\n",
    "        return f\"{minutes}m {seconds}s\""
   ]
  },
  {
   "cell_type": "code",
   "execution_count": 12,
   "id": "da4049ec-3be9-44d9-83dc-cedec7e3e700",
   "metadata": {},
   "outputs": [],
   "source": [
    "def team_side(match):\n",
    "    if match['radiant']:\n",
    "        return True  \n",
    "    else:\n",
    "        return False"
   ]
  },
  {
   "cell_type": "code",
   "execution_count": 13,
   "id": "c8ef97e0-cf0b-4d5e-bd3d-a0e15ec8fb41",
   "metadata": {},
   "outputs": [
    {
     "name": "stdout",
     "output_type": "stream",
     "text": [
      "Resultado: Derrota, Duração: 31m 57s\n",
      "Resultado: Vitória, Duração: 26m 39s\n",
      "Resultado: Vitória, Duração: 24m 44s\n",
      "Resultado: Vitória, Duração: 30m 0s\n"
     ]
    }
   ],
   "source": [
    "for match in matches:\n",
    "    is_radiant = team_side(match)\n",
    "    if (is_radiant and match['radiant_win']) or (not is_radiant and not match['radiant_win']):\n",
    "        resultado = 'Vitória'\n",
    "    else:\n",
    "        resultado = 'Derrota'\n",
    "    duration_formatted = format_duration(match['duration'])\n",
    "    print(f\"Resultado: {resultado}, Duração: {duration_formatted}\")"
   ]
  },
  {
   "cell_type": "code",
   "execution_count": 14,
   "id": "d041a815-bee7-4281-abf8-f8c67289fd10",
   "metadata": {},
   "outputs": [],
   "source": [
    "match_ids = []\n",
    "for match in matches:\n",
    "    match_ids.append(match['match_id']) "
   ]
  },
  {
   "cell_type": "code",
   "execution_count": 16,
   "id": "079705ce-1525-4d69-a598-f022acc3f957",
   "metadata": {},
   "outputs": [
    {
     "name": "stdout",
     "output_type": "stream",
     "text": [
      "A partida 1 teve 57 abates\n",
      "A Tundra teve 8 kills\n",
      "O outro time teve 49 kills\n",
      "A partida 2 teve 33 abates\n",
      "A Tundra teve 28 kills\n",
      "O outro time teve 5 kills\n",
      "A partida 3 teve 55 abates\n",
      "A Tundra teve 38 kills\n",
      "O outro time teve 17 kills\n",
      "A partida 4 teve 68 abates\n",
      "A Tundra teve 43 kills\n",
      "O outro time teve 25 kills\n",
      "Media de kils nas ultimas 4 partidas foi de 53.25 kils\n",
      "Total de kills em todas as partidas: 213\n"
     ]
    }
   ],
   "source": [
    "count = 0\n",
    "count1 = 1\n",
    "total_kils = 0\n",
    "\n",
    "for match in matches:\n",
    "    is_radiant = team_side(match)\n",
    "    radiant_score = match['radiant_score']\n",
    "    dire_score = match['dire_score']\n",
    "    total_score_match = radiant_score + dire_score\n",
    "    total_kils += total_score_match \n",
    "    print(f\"A partida {count1} teve {total_score_match} abates\")\n",
    "    if is_radiant == True:\n",
    "        print(f\"A Tundra teve {radiant_score} kills\")\n",
    "        print(f\"O outro time teve {dire_score} kills\")\n",
    "    \n",
    "    elif is_radiant == False:\n",
    "        print(f\"A Tundra teve {dire_score} kills\")\n",
    "        print(f\"O outro time teve {radiant_score} kills\")\n",
    "\n",
    "    count += 1\n",
    "    count1 += 1\n",
    "    \n",
    "media = (total_kils/count)\n",
    "print(f\"Media de kils nas ultimas {count} partidas foi de {media} kils\")\n",
    "print(f\"Total de kills em todas as partidas: {total_kils}\")"
   ]
  },
  {
   "cell_type": "code",
   "execution_count": 17,
   "id": "7bc24e86-ab48-4202-baf0-81005d7055be",
   "metadata": {},
   "outputs": [
    {
     "name": "stdout",
     "output_type": "stream",
     "text": [
      "O tempo total de duracao das partidas foi de 1h 53m 20s\n",
      "A media de tempo de cada partida foi de 28.0m 20.0s\n"
     ]
    }
   ],
   "source": [
    "total_duration = 0\n",
    "for match in matches:\n",
    "    total_duration += match['duration']  \n",
    "media = total_duration / 4\n",
    "print(f\"O tempo total de duracao das partidas foi de {format_duration(total_duration)}\")  \n",
    "print(f\"A media de tempo de cada partida foi de {format_duration(media)}\")  "
   ]
  },
  {
   "cell_type": "code",
   "execution_count": 18,
   "id": "6b62941f-7d0a-45f3-b789-b232b52d9954",
   "metadata": {},
   "outputs": [],
   "source": [
    "def get_match_detail(match_ids):\n",
    "    url = f\"https://api.opendota.com/api/matches/{match_id}\"\n",
    "    response = requests.get(url)\n",
    "    return response.json()"
   ]
  },
  {
   "cell_type": "code",
   "execution_count": 20,
   "id": "dc7e70fe-2ebc-4493-b385-638d69aebf77",
   "metadata": {},
   "outputs": [],
   "source": [
    "url = f'https://api.opendota.com/api/teams/{tundra_id}/players'\n",
    "response = requests.get(url) \n",
    "players1 = response.json()\n",
    "players_name = []\n",
    "for player in players1:\n",
    "    account_id = player.get('name')\n",
    "    in_team = player.get(\"is_current_team_member\")\n",
    "    if account_id and in_team == True:\n",
    "        players_name.append(account_id)"
   ]
  },
  {
   "cell_type": "code",
   "execution_count": 24,
   "id": "4df1d548-0343-461b-b210-0d869e161032",
   "metadata": {},
   "outputs": [
    {
     "name": "stdout",
     "output_type": "stream",
     "text": [
      "O jogador 33 tem uma média de 8.77 de KDA.\n",
      " - Média de kills: 5.50\n",
      " - Média de mortes: 5.25\n",
      " - Média de assistências: 12.50\n",
      "O jogador Saksa tem uma média de 4.58 de KDA.\n",
      " - Média de kills: 3.00\n",
      " - Média de mortes: 7.25\n",
      " - Média de assistências: 14.50\n",
      "O jogador Whitemon tem uma média de 6.86 de KDA.\n",
      " - Média de kills: 4.25\n",
      " - Média de mortes: 5.75\n",
      " - Média de assistências: 14.75\n",
      "O jogador Nightfall tem uma média de 17.44 de KDA.\n",
      " - Média de kills: 6.25\n",
      " - Média de mortes: 1.75\n",
      " - Média de assistências: 11.75\n",
      "O jogador lorenof tem uma média de 7.69 de KDA.\n",
      " - Média de kills: 9.75\n",
      " - Média de mortes: 4.00\n",
      " - Média de assistências: 8.50\n"
     ]
    }
   ],
   "source": [
    "mean_kda = {player_name: [] for player_name in players_name} \n",
    "mean_kills = {player_name: [] for player_name in players_name} \n",
    "mean_deaths = {player_name: [] for player_name in players_name} \n",
    "mean_assists = {player_name: [] for player_name in players_name} \n",
    "\n",
    "for match_id in match_ids:\n",
    "    match_data = get_match_detail(match_id)\n",
    "    players = match_data['players']\n",
    "    \n",
    "    for player in players:\n",
    "        jogador_nome = player.get('name', 'Desconhecido')\n",
    "        if jogador_nome in players_name:\n",
    "            kills = player['kills']\n",
    "            deaths = player['deaths']\n",
    "            assists = player['assists']\n",
    "            kda = (kills + assists) / (deaths if deaths > 0 else 1) \n",
    "\n",
    "            mean_kda[jogador_nome].append(kda)\n",
    "            mean_kills[jogador_nome].append(kills)\n",
    "            mean_deaths[jogador_nome].append(deaths)\n",
    "            mean_assists[jogador_nome].append(assists)\n",
    "\n",
    "\n",
    "for jogador_nome in players_name:\n",
    "    kda_lista = mean_kda[jogador_nome]\n",
    "    kills_lista = mean_kills[jogador_nome]\n",
    "    deaths_lista = mean_deaths[jogador_nome]\n",
    "    assists_lista = mean_assists[jogador_nome]\n",
    "    \n",
    "    kda_medio = sum(kda_lista) / len(kda_lista) if kda_lista else 0\n",
    "    kills_medio = sum(kills_lista) / len(kills_lista) if kills_lista else 0\n",
    "    deaths_medio = sum(deaths_lista) / len(deaths_lista) if deaths_lista else 0\n",
    "    assists_medio = sum(assists_lista) / len(assists_lista) if assists_lista else 0\n",
    "    if kda_medio > 0:    \n",
    "        print(f\"O jogador {jogador_nome} tem uma média de {kda_medio:.2f} de KDA.\")\n",
    "        print(f\" - Média de kills: {kills_medio:.2f}\")\n",
    "        print(f\" - Média de mortes: {deaths_medio:.2f}\")\n",
    "        print(f\" - Média de assistências: {assists_medio:.2f}\")"
   ]
  },
  {
   "cell_type": "code",
   "execution_count": 25,
   "id": "3e33fafd-6e08-4254-94f6-27df27b29a42",
   "metadata": {},
   "outputs": [],
   "source": [
    "def get_hero_mapping():\n",
    "    url = \"https://api.opendota.com/api/heroes\"\n",
    "    response = requests.get(url)\n",
    "    heroes_data = response.json()\n",
    "    \n",
    "    hero_mapping = {hero['id']: hero['localized_name'] for hero in heroes_data}\n",
    "    return hero_mapping\n",
    "\n",
    "hero_mapping = get_hero_mapping()"
   ]
  },
  {
   "cell_type": "code",
   "execution_count": 26,
   "id": "1c5a455c-c075-462b-9bef-04c93794cfae",
   "metadata": {},
   "outputs": [
    {
     "name": "stdout",
     "output_type": "stream",
     "text": [
      "Heróis que mais apareceram nas últimas partidas:\n",
      "Herói Muerta apareceu 2 vezes.\n",
      "Herói Medusa apareceu 2 vezes.\n",
      "Herói Tusk apareceu 2 vezes.\n",
      "Herói Alchemist apareceu 2 vezes.\n",
      "Herói Anti-Mage apareceu 1 vezes.\n"
     ]
    }
   ],
   "source": [
    "hero_counter = collections.Counter()\n",
    "\n",
    "for match_id in match_ids:\n",
    "    match_data = get_match_detail(match_id)\n",
    "    players = match_data['players']\n",
    "    \n",
    "    for player in players:\n",
    "        hero_id = player['hero_id']\n",
    "        hero_counter[hero_id] += 1\n",
    "\n",
    "top_heroes = hero_counter.most_common(5)\n",
    "\n",
    "print(\"Heróis que mais apareceram nas últimas partidas:\")\n",
    "for hero_id, count in top_heroes:\n",
    "    hero_name = hero_mapping.get(hero_id, \"Desconhecido\")\n",
    "    print(f\"Herói {hero_name} apareceu {count} vezes.\")"
   ]
  },
  {
   "cell_type": "code",
   "execution_count": null,
   "id": "6ed013e7-dad9-4a39-81d4-7421a043f857",
   "metadata": {},
   "outputs": [],
   "source": []
  }
 ],
 "metadata": {
  "kernelspec": {
   "display_name": "Python 3 (ipykernel)",
   "language": "python",
   "name": "python3"
  },
  "language_info": {
   "codemirror_mode": {
    "name": "ipython",
    "version": 3
   },
   "file_extension": ".py",
   "mimetype": "text/x-python",
   "name": "python",
   "nbconvert_exporter": "python",
   "pygments_lexer": "ipython3",
   "version": "3.12.4"
  }
 },
 "nbformat": 4,
 "nbformat_minor": 5
}
