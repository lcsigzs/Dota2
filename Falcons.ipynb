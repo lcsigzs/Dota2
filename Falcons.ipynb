{
 "cells": [
  {
   "cell_type": "code",
   "execution_count": 39,
   "id": "6db6f6fd-ccfe-4748-914e-b9f7043b0189",
   "metadata": {},
   "outputs": [],
   "source": [
    "import requests\n",
    "import pandas as pd\n",
    "import seaborn as sns\n",
    "import matplotlib.pyplot as plt\n",
    "import collections  "
   ]
  },
  {
   "cell_type": "code",
   "execution_count": 13,
   "id": "b3c3e4c0-e6c8-4cd6-8af5-bef85803a42e",
   "metadata": {},
   "outputs": [],
   "source": [
    "url = f\"https://api.opendota.com/api/teams\"\n",
    "response = requests.get(url)\n",
    "teams_data = response.json()"
   ]
  },
  {
   "cell_type": "code",
   "execution_count": 14,
   "id": "c92a153b-5ebc-4c82-bd0b-2c8616406d78",
   "metadata": {},
   "outputs": [
    {
     "name": "stdout",
     "output_type": "stream",
     "text": [
      "9247354\n"
     ]
    }
   ],
   "source": [
    "falcons_id = []\n",
    "for teams in teams_data: \n",
    "    if teams['name'] == 'Team Falcons': \n",
    "        falcons_id = teams['team_id']\n",
    "        print(falcons_id)"
   ]
  },
  {
   "cell_type": "code",
   "execution_count": 17,
   "id": "982e3a8c-24fa-47cf-a85b-e974aa203399",
   "metadata": {},
   "outputs": [],
   "source": [
    "def team_info(falcons_id):\n",
    "    url = f\"https://api.opendota.com/api/teams/{falcons_id}\"\n",
    "    response = requests.get(url)\n",
    "    return response.json()"
   ]
  },
  {
   "cell_type": "code",
   "execution_count": 19,
   "id": "df72ba85-7ddf-4fe4-8657-340b46575af3",
   "metadata": {},
   "outputs": [
    {
     "name": "stdout",
     "output_type": "stream",
     "text": [
      "A Falcons tem 73.7% de WinRate\n"
     ]
    }
   ],
   "source": [
    "def win_rate(falcons_id):\n",
    "    team_data = team_info(falcons_id)\n",
    "    wins = team_data['wins']\n",
    "    losses = team_data['losses']\n",
    "    total = wins + losses\n",
    "    win_rate = (wins / total) * 100 if total > 0 else 0\n",
    "    return round(win_rate, 1)\n",
    "print(f\"A Falcons tem {win_rate(falcons_id)}% de WinRate\")"
   ]
  },
  {
   "cell_type": "code",
   "execution_count": 46,
   "id": "15282e47-0d7c-45b7-9d51-57354dbefcd7",
   "metadata": {},
   "outputs": [],
   "source": [
    "def get_matches(falcons_id):\n",
    "    url = f\"https://api.opendota.com/api/teams/{falcons_id}/matches\"\n",
    "    response = requests.get(url)\n",
    "    matches = response.json()\n",
    "    return matches[:4]"
   ]
  },
  {
   "cell_type": "code",
   "execution_count": 58,
   "id": "280613f3-09da-404e-956f-5c9d525a0446",
   "metadata": {},
   "outputs": [],
   "source": [
    "matches = get_matches(falcons_id)"
   ]
  },
  {
   "cell_type": "code",
   "execution_count": 47,
   "id": "bfce560e-75e2-4852-8e05-21197ddfbc5b",
   "metadata": {},
   "outputs": [],
   "source": [
    "def format_duration(duration):\n",
    "    hours = duration // 3600             \n",
    "    minutes = (duration % 3600) // 60    \n",
    "    seconds = duration % 60    \n",
    "    if hours > 0:\n",
    "        return f\"{hours}h {minutes}m {seconds}s\"\n",
    "    else:\n",
    "        return f\"{minutes}m {seconds}s\""
   ]
  },
  {
   "cell_type": "code",
   "execution_count": 48,
   "id": "dbf48d25-0f37-4e3e-8426-ef6d07e392db",
   "metadata": {},
   "outputs": [],
   "source": [
    "def team_side(match):\n",
    "    if match['radiant']:\n",
    "        return True  \n",
    "    else:\n",
    "        return False"
   ]
  },
  {
   "cell_type": "code",
   "execution_count": 49,
   "id": "2c729925-90bd-4ba7-9a6a-f703e1f36b6b",
   "metadata": {},
   "outputs": [
    {
     "name": "stdout",
     "output_type": "stream",
     "text": [
      "Resultado: Derrota, Duração: 41m 12s\n",
      "Resultado: Vitória, Duração: 42m 27s\n",
      "Resultado: Vitória, Duração: 33m 46s\n",
      "Resultado: Vitória, Duração: 40m 33s\n"
     ]
    }
   ],
   "source": [
    "for match in matches:\n",
    "    is_radiant = team_side(match)\n",
    "    if (is_radiant and match['radiant_win']) or (not is_radiant and not match['radiant_win']):\n",
    "        resultado = 'Vitória'\n",
    "    else:\n",
    "        resultado = 'Derrota'\n",
    "    duration_formatted = format_duration(match['duration'])\n",
    "    print(f\"Resultado: {resultado}, Duração: {duration_formatted}\")"
   ]
  },
  {
   "cell_type": "code",
   "execution_count": 50,
   "id": "15b65307-207a-4cb2-b36d-02cdf5aa2a71",
   "metadata": {},
   "outputs": [],
   "source": [
    "match_ids = []\n",
    "for match in matches:\n",
    "    match_ids.append(match['match_id']) "
   ]
  },
  {
   "cell_type": "code",
   "execution_count": 51,
   "id": "7d2c6691-c927-4b31-b5fd-d10a6780ab9f",
   "metadata": {},
   "outputs": [
    {
     "name": "stdout",
     "output_type": "stream",
     "text": [
      "A partida 1 teve 50 abates\n",
      "A Falcons teve 12 kills\n",
      "O outro time teve 38 kills\n",
      "A partida 2 teve 35 abates\n",
      "A Falcons teve 28 kills\n",
      "O outro time teve 7 kills\n",
      "A partida 3 teve 36 abates\n",
      "A Falcons teve 26 kills\n",
      "O outro time teve 10 kills\n",
      "A partida 4 teve 48 abates\n",
      "A Falcons teve 29 kills\n",
      "O outro time teve 19 kills\n",
      "Media de kils nas ultimas 4 partidas foi de 42.25 kils\n",
      "Total de kills em todas as partidas: 169\n"
     ]
    }
   ],
   "source": [
    "count = 0\n",
    "count1 = 1\n",
    "total_kils = 0\n",
    "\n",
    "for match in matches:\n",
    "    is_radiant = team_side(match)\n",
    "    radiant_score = match['radiant_score']\n",
    "    dire_score = match['dire_score']\n",
    "    total_score_match = radiant_score + dire_score\n",
    "    total_kils += total_score_match \n",
    "    print(f\"A partida {count1} teve {total_score_match} abates\")\n",
    "    if is_radiant == True:\n",
    "        print(f\"A Falcons teve {radiant_score} kills\")\n",
    "        print(f\"O outro time teve {dire_score} kills\")\n",
    "    \n",
    "    elif is_radiant == False:\n",
    "        print(f\"A Falcons teve {dire_score} kills\")\n",
    "        print(f\"O outro time teve {radiant_score} kills\")\n",
    "\n",
    "    count += 1\n",
    "    count1 += 1\n",
    "    \n",
    "media = (total_kils/count)\n",
    "print(f\"Media de kils nas ultimas {count} partidas foi de {media} kils\")\n",
    "print(f\"Total de kills em todas as partidas: {total_kils}\")"
   ]
  },
  {
   "cell_type": "code",
   "execution_count": 52,
   "id": "72119073-8c91-4299-a249-1079633d04bf",
   "metadata": {},
   "outputs": [
    {
     "name": "stdout",
     "output_type": "stream",
     "text": [
      "O tempo total de duracao das partidas foi de 2h 37m 58s\n",
      "A media de tempo de cada partida foi de 39.0m 29.5s\n"
     ]
    }
   ],
   "source": [
    "total_duration = 0\n",
    "for match in matches:\n",
    "    total_duration += match['duration']  \n",
    "media = total_duration / 4\n",
    "print(f\"O tempo total de duracao das partidas foi de {format_duration(total_duration)}\")  \n",
    "print(f\"A media de tempo de cada partida foi de {format_duration(media)}\")  "
   ]
  },
  {
   "cell_type": "code",
   "execution_count": 53,
   "id": "ac96098e-56f0-44a9-9c57-906e744d1dec",
   "metadata": {},
   "outputs": [],
   "source": [
    "def get_match_detail(match_ids):\n",
    "    url = f\"https://api.opendota.com/api/matches/{match_id}\"\n",
    "    response = requests.get(url)\n",
    "    return response.json()"
   ]
  },
  {
   "cell_type": "code",
   "execution_count": 54,
   "id": "1ef04c8c-4a79-4dca-bf7e-0bc3d476d52f",
   "metadata": {},
   "outputs": [],
   "source": [
    "url = f'https://api.opendota.com/api/teams/{falcons_id}/players'\n",
    "response = requests.get(url) \n",
    "players1 = response.json()\n",
    "players_name = []\n",
    "for player in players1:\n",
    "    account_id = player.get('name')\n",
    "    in_team = player.get(\"is_current_team_member\")\n",
    "    if account_id and in_team == True:\n",
    "        players_name.append(account_id)"
   ]
  },
  {
   "cell_type": "code",
   "execution_count": 55,
   "id": "341cc214-926d-4cbf-a72b-4653dbc99118",
   "metadata": {},
   "outputs": [
    {
     "name": "stdout",
     "output_type": "stream",
     "text": [
      "O jogador AMMAR_THE_F tem uma média de 5.06 de KDA.\n",
      " - Média de kills: 4.50\n",
      " - Média de mortes: 4.00\n",
      " - Média de assistências: 12.00\n",
      "O jogador Cr1t- tem uma média de 7.36 de KDA.\n",
      " - Média de kills: 3.00\n",
      " - Média de mortes: 5.50\n",
      " - Média de assistências: 14.75\n",
      "O jogador skiter tem uma média de 13.50 de KDA.\n",
      " - Média de kills: 5.00\n",
      " - Média de mortes: 2.75\n",
      " - Média de assistências: 10.25\n",
      "O jogador Sneyking tem uma média de 6.35 de KDA.\n",
      " - Média de kills: 3.50\n",
      " - Média de mortes: 4.00\n",
      " - Média de assistências: 10.25\n",
      "O jogador Malr1ne tem uma média de 13.34 de KDA.\n",
      " - Média de kills: 7.75\n",
      " - Média de mortes: 2.25\n",
      " - Média de assistências: 10.75\n"
     ]
    }
   ],
   "source": [
    "mean_kda = {player_name: [] for player_name in players_name} \n",
    "mean_kills = {player_name: [] for player_name in players_name} \n",
    "mean_deaths = {player_name: [] for player_name in players_name} \n",
    "mean_assists = {player_name: [] for player_name in players_name} \n",
    "\n",
    "for match_id in match_ids:\n",
    "    match_data = get_match_detail(match_id)\n",
    "    players = match_data['players']\n",
    "    \n",
    "    for player in players:\n",
    "        jogador_nome = player.get('name', 'Desconhecido')\n",
    "        if jogador_nome in players_name:\n",
    "            kills = player['kills']\n",
    "            deaths = player['deaths']\n",
    "            assists = player['assists']\n",
    "            kda = (kills + assists) / (deaths if deaths > 0 else 1) \n",
    "\n",
    "            mean_kda[jogador_nome].append(kda)\n",
    "            mean_kills[jogador_nome].append(kills)\n",
    "            mean_deaths[jogador_nome].append(deaths)\n",
    "            mean_assists[jogador_nome].append(assists)\n",
    "\n",
    "\n",
    "for jogador_nome in players_name:\n",
    "    kda_lista = mean_kda[jogador_nome]\n",
    "    kills_lista = mean_kills[jogador_nome]\n",
    "    deaths_lista = mean_deaths[jogador_nome]\n",
    "    assists_lista = mean_assists[jogador_nome]\n",
    "    \n",
    "    kda_medio = sum(kda_lista) / len(kda_lista) if kda_lista else 0\n",
    "    kills_medio = sum(kills_lista) / len(kills_lista) if kills_lista else 0\n",
    "    deaths_medio = sum(deaths_lista) / len(deaths_lista) if deaths_lista else 0\n",
    "    assists_medio = sum(assists_lista) / len(assists_lista) if assists_lista else 0\n",
    "    \n",
    "    if kda_medio > 0:    \n",
    "        print(f\"O jogador {jogador_nome} tem uma média de {kda_medio:.2f} de KDA.\")\n",
    "        print(f\" - Média de kills: {kills_medio:.2f}\")\n",
    "        print(f\" - Média de mortes: {deaths_medio:.2f}\")\n",
    "        print(f\" - Média de assistências: {assists_medio:.2f}\")"
   ]
  },
  {
   "cell_type": "code",
   "execution_count": 56,
   "id": "f9d3224f-d12c-4649-afd6-6a5930b3f78a",
   "metadata": {},
   "outputs": [],
   "source": [
    "def get_hero_mapping():\n",
    "    url = \"https://api.opendota.com/api/heroes\"\n",
    "    response = requests.get(url)\n",
    "    heroes_data = response.json()\n",
    "    \n",
    "    hero_mapping = {hero['id']: hero['localized_name'] for hero in heroes_data}\n",
    "    return hero_mapping\n",
    "\n",
    "hero_mapping = get_hero_mapping()"
   ]
  },
  {
   "cell_type": "code",
   "execution_count": 57,
   "id": "b4d305a0-a87d-40b6-9466-1cea9a4e9b2b",
   "metadata": {},
   "outputs": [
    {
     "name": "stdout",
     "output_type": "stream",
     "text": [
      "Heróis que mais apareceram nas últimas partidas:\n",
      "Herói Tusk apareceu 3 vezes.\n",
      "Herói Pugna apareceu 2 vezes.\n",
      "Herói Dawnbreaker apareceu 2 vezes.\n",
      "Herói Mars apareceu 2 vezes.\n",
      "Herói Phoenix apareceu 2 vezes.\n"
     ]
    }
   ],
   "source": [
    "hero_counter = collections.Counter()\n",
    "\n",
    "for match_id in match_ids:\n",
    "    match_data = get_match_detail(match_id)\n",
    "    players = match_data['players']\n",
    "    \n",
    "    for player in players:\n",
    "        hero_id = player['hero_id']\n",
    "        hero_counter[hero_id] += 1\n",
    "\n",
    "top_heroes = hero_counter.most_common(5)\n",
    "\n",
    "print(\"Heróis que mais apareceram nas últimas partidas:\")\n",
    "for hero_id, count in top_heroes:\n",
    "    hero_name = hero_mapping.get(hero_id, \"Desconhecido\")\n",
    "    print(f\"Herói {hero_name} apareceu {count} vezes.\")"
   ]
  },
  {
   "cell_type": "code",
   "execution_count": null,
   "id": "b526a16e-094e-4381-ad9e-55abf09022a8",
   "metadata": {},
   "outputs": [],
   "source": []
  }
 ],
 "metadata": {
  "kernelspec": {
   "display_name": "Python 3 (ipykernel)",
   "language": "python",
   "name": "python3"
  },
  "language_info": {
   "codemirror_mode": {
    "name": "ipython",
    "version": 3
   },
   "file_extension": ".py",
   "mimetype": "text/x-python",
   "name": "python",
   "nbconvert_exporter": "python",
   "pygments_lexer": "ipython3",
   "version": "3.12.4"
  }
 },
 "nbformat": 4,
 "nbformat_minor": 5
}
