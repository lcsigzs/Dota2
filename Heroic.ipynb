{
 "cells": [
  {
   "cell_type": "code",
   "execution_count": 1,
   "id": "9d66827d-c621-42f6-ba7c-bf1fa4a3cb86",
   "metadata": {},
   "outputs": [],
   "source": [
    "import requests\n",
    "import pandas as pd\n",
    "import seaborn as sns\n",
    "import matplotlib.pyplot as plt"
   ]
  },
  {
   "cell_type": "code",
   "execution_count": 2,
   "id": "b286c248-9687-4e33-b778-e90d2c5fa4d2",
   "metadata": {},
   "outputs": [],
   "source": [
    "url = f\"https://api.opendota.com/api/teams\""
   ]
  },
  {
   "cell_type": "code",
   "execution_count": 3,
   "id": "3c2661b4-0be4-4d87-a722-fdb2c809c4a1",
   "metadata": {},
   "outputs": [],
   "source": [
    "response = requests.get(url)\n",
    "teams_data = response.json()"
   ]
  },
  {
   "cell_type": "code",
   "execution_count": 4,
   "id": "460cebe2-a452-4fa8-903f-36603cc58343",
   "metadata": {},
   "outputs": [
    {
     "name": "stdout",
     "output_type": "stream",
     "text": [
      "9303484\n"
     ]
    }
   ],
   "source": [
    "heroic_id = []\n",
    "for teams in teams_data: \n",
    "    if teams['name'] == 'HEROIC': \n",
    "        heroic_id = teams['team_id']\n",
    "        print(heroic_id)"
   ]
  },
  {
   "cell_type": "code",
   "execution_count": 5,
   "id": "54315d52-3d3f-43a7-b086-962acc0df500",
   "metadata": {},
   "outputs": [],
   "source": [
    "def team_info(heroic_id):\n",
    "    url = f\"https://api.opendota.com/api/teams/{heroic_id}\"\n",
    "    response = requests.get(url)\n",
    "    return response.json()\n",
    "teste = team_info(heroic_id)"
   ]
  },
  {
   "cell_type": "code",
   "execution_count": 6,
   "id": "c0188484-bd88-4f42-8440-26ddf94858d1",
   "metadata": {},
   "outputs": [
    {
     "name": "stdout",
     "output_type": "stream",
     "text": [
      "A Heroic tem 54.0% de WinRate\n"
     ]
    }
   ],
   "source": [
    "def win_rate(heroic_id):\n",
    "    team_data = team_info(heroic_id)\n",
    "    win = team_data['wins']\n",
    "    losses = team_data['losses']\n",
    "    total = win + losses\n",
    "    win_rate = (win / total) * 100 if total > 0 else 0\n",
    "    return round(win_rate, 1)\n",
    "print(f\"A Heroic tem {win_rate(heroic_id)}% de WinRate\")"
   ]
  },
  {
   "cell_type": "code",
   "execution_count": 7,
   "id": "0def4003-ab71-46ac-ad16-574a2a14f3ec",
   "metadata": {},
   "outputs": [],
   "source": [
    "def get_matches(heroic_id):\n",
    "    url = f\"https://api.opendota.com/api/teams/{heroic_id}/matches\"\n",
    "    response = requests.get(url)\n",
    "    matches = response.json()\n",
    "    return matches[:4]"
   ]
  },
  {
   "cell_type": "code",
   "execution_count": 8,
   "id": "245d3e89-9f1f-419c-b207-f0ce7509415b",
   "metadata": {},
   "outputs": [],
   "source": [
    "matches = get_matches(heroic_id)"
   ]
  },
  {
   "cell_type": "code",
   "execution_count": 9,
   "id": "29d15799-09e8-467e-b1fe-90e19ddd1974",
   "metadata": {},
   "outputs": [],
   "source": [
    "def format_duration(duration):\n",
    "    hours = duration // 3600             \n",
    "    minutes = (duration % 3600) // 60    \n",
    "    seconds = duration % 60    \n",
    "    if hours > 0:\n",
    "        return f\"{hours}h {minutes}m {seconds}s\"\n",
    "    else:\n",
    "        return f\"{minutes}m {seconds}s\""
   ]
  },
  {
   "cell_type": "code",
   "execution_count": 10,
   "id": "75dcada3-0d60-4a07-9c83-b67219fbd071",
   "metadata": {},
   "outputs": [],
   "source": [
    "def team_side(match):\n",
    "    if match['radiant']:\n",
    "        return True  \n",
    "    else:\n",
    "        return False"
   ]
  },
  {
   "cell_type": "code",
   "execution_count": 11,
   "id": "f3ea6692-e20f-4be7-92ee-58371597e99e",
   "metadata": {},
   "outputs": [
    {
     "name": "stdout",
     "output_type": "stream",
     "text": [
      "Resultado: Derrota, Duração: 49m 54s\n",
      "Resultado: Vitória, Duração: 34m 38s\n",
      "Resultado: Derrota, Duração: 1h 6m 37s\n",
      "Resultado: Derrota, Duração: 26m 37s\n"
     ]
    }
   ],
   "source": [
    "for match in matches:\n",
    "    is_radiant = team_side(match)\n",
    "    if (is_radiant and match['radiant_win']) or (not is_radiant and not match['radiant_win']):\n",
    "        resultado = 'Vitória'\n",
    "    else:\n",
    "        resultado = 'Derrota'\n",
    "    duration_formatted = format_duration(match['duration'])\n",
    "    print(f\"Resultado: {resultado}, Duração: {duration_formatted}\")"
   ]
  },
  {
   "cell_type": "code",
   "execution_count": 12,
   "id": "adf0f0f9-68a1-4b44-84de-761074bb1073",
   "metadata": {},
   "outputs": [
    {
     "data": {
      "text/plain": [
       "[8011750772, 8011674211, 8011300761, 8011202507]"
      ]
     },
     "execution_count": 12,
     "metadata": {},
     "output_type": "execute_result"
    }
   ],
   "source": [
    "match_ids = []\n",
    "for match in matches:\n",
    "    match_ids.append(match['match_id']) \n",
    "match_ids"
   ]
  },
  {
   "cell_type": "code",
   "execution_count": 13,
   "id": "14fdc65a-afc3-4bbc-baf3-e7bf7b7110d9",
   "metadata": {},
   "outputs": [
    {
     "name": "stdout",
     "output_type": "stream",
     "text": [
      "A partida 1 teve 127 abates\n",
      "A Heroic teve 56 kills\n",
      "O outro time teve 71 kills\n",
      "A partida 2 teve 52 abates\n",
      "A Heroic teve 27 kills\n",
      "O outro time teve 25 kills\n",
      "A partida 3 teve 91 abates\n",
      "A Heroic teve 45 kills\n",
      "O outro time teve 46 kills\n",
      "A partida 4 teve 45 abates\n",
      "A Heroic teve 15 kills\n",
      "O outro time teve 30 kills\n",
      "Media de kils nas ultimas 4 partidas foi de 78.75 kils\n",
      "Total de kills em todas as partidas: 315\n"
     ]
    }
   ],
   "source": [
    "count = 0\n",
    "count1 = 1\n",
    "total_kils = 0\n",
    "\n",
    "for match in matches:\n",
    "    is_radiant = team_side(match)\n",
    "    radiant_score = match['radiant_score']\n",
    "    dire_score = match['dire_score']\n",
    "    total_score_match = radiant_score + dire_score\n",
    "    total_kils += total_score_match \n",
    "    print(f\"A partida {count1} teve {total_score_match} abates\")\n",
    "    if is_radiant == True:\n",
    "        print(f\"A Heroic teve {radiant_score} kills\")\n",
    "        print(f\"O outro time teve {dire_score} kills\")\n",
    "    \n",
    "    elif is_radiant == False:\n",
    "        print(f\"A Heroic teve {dire_score} kills\")\n",
    "        print(f\"O outro time teve {radiant_score} kills\")\n",
    "\n",
    "    count += 1\n",
    "    count1 += 1\n",
    "    \n",
    "media = (total_kils/count)\n",
    "print(f\"Media de kils nas ultimas {count} partidas foi de {media} kils\")\n",
    "print(f\"Total de kills em todas as partidas: {total_kils}\")"
   ]
  },
  {
   "cell_type": "code",
   "execution_count": 14,
   "id": "d4793560-38b9-4786-a026-52232e802b04",
   "metadata": {},
   "outputs": [
    {
     "name": "stdout",
     "output_type": "stream",
     "text": [
      "O tempo total de duracao das partidas foi de 2h 57m 46s\n",
      "A media de tempo de cada partida foi de 44.0m 26.5s\n"
     ]
    }
   ],
   "source": [
    "total_duration = 0\n",
    "for match in matches:\n",
    "    total_duration += match['duration']  \n",
    "media = total_duration / 4\n",
    "print(f\"O tempo total de duracao das partidas foi de {format_duration(total_duration)}\")  \n",
    "print(f\"A media de tempo de cada partida foi de {format_duration(media)}\")  "
   ]
  },
  {
   "cell_type": "code",
   "execution_count": 15,
   "id": "6d68ff9d-2eda-4a3c-b590-73c888d6a86c",
   "metadata": {},
   "outputs": [],
   "source": [
    "def get_match_detail(match_ids):\n",
    "    url = f\"https://api.opendota.com/api/matches/{match_id}\"\n",
    "    response = requests.get(url)\n",
    "    return response.json()"
   ]
  },
  {
   "cell_type": "code",
   "execution_count": 23,
   "id": "e1ca3ce7-8ee3-4583-8cac-d7a58b4084d6",
   "metadata": {},
   "outputs": [],
   "source": [
    "url = f'https://api.opendota.com/api/teams/{heroic_id}/players'\n",
    "response = requests.get(url) \n",
    "players1 = response.json()\n",
    "players_name = []\n",
    "for player in players1:\n",
    "    account_id = player.get('name')\n",
    "    in_team = player.get(\"is_current_team_member\")\n",
    "    if account_id and in_team == True:\n",
    "        players_name.append(account_id)"
   ]
  },
  {
   "cell_type": "code",
   "execution_count": 22,
   "id": "163a7bb6-57d0-492f-a481-15edfe0df30c",
   "metadata": {},
   "outputs": [
    {
     "name": "stdout",
     "output_type": "stream",
     "text": [
      "O jogador KingJungles tem uma média de 1.81 de KDA.\n",
      "O jogador 4nalog <01 tem uma média de 7.31 de KDA.\n",
      "O jogador Davai Lama tem uma média de 3.97 de KDA.\n",
      "O jogador Scofield tem uma média de 2.22 de KDA.\n",
      "O jogador k1 hector tqmM não possui partidas registradas.\n",
      "O jogador ɹǝʞɹɐd⚔️ tem uma média de 7.39 de KDA.\n"
     ]
    }
   ],
   "source": [
    "kda_acumulado = {player_name: [] for player_name in players_name} \n",
    "for match_id in match_ids:\n",
    "    match_data = get_match_detail(match_id)\n",
    "    players = match_data['players']\n",
    "    \n",
    "    for player in players:\n",
    "        jogador_nome = player.get('name', 'Desconhecido')\n",
    "        if jogador_nome in players_name:\n",
    "            kills = player['kills']\n",
    "            deaths = player['deaths']\n",
    "            assists = player['assists']\n",
    "            kda = (kills + assists) / (deaths if deaths > 0 else 1) \n",
    "            kda_acumulado[jogador_nome].append(kda)\n",
    "\n",
    "for jogador_nome, kda_lista in kda_acumulado.items():\n",
    "    if kda_lista:\n",
    "        kda_medio = sum(kda_lista) / len(kda_lista)\n",
    "        print(f\"O jogador {jogador_nome} tem uma média de {kda_medio:.2f} de KDA.\")\n",
    "    else:\n",
    "        print(f\"O jogador {jogador_nome} não possui partidas registradas.\")"
   ]
  },
  {
   "cell_type": "code",
   "execution_count": null,
   "id": "77643f8a-8881-4756-9eec-b97ce1897484",
   "metadata": {},
   "outputs": [],
   "source": []
  }
 ],
 "metadata": {
  "kernelspec": {
   "display_name": "Python 3 (ipykernel)",
   "language": "python",
   "name": "python3"
  },
  "language_info": {
   "codemirror_mode": {
    "name": "ipython",
    "version": 3
   },
   "file_extension": ".py",
   "mimetype": "text/x-python",
   "name": "python",
   "nbconvert_exporter": "python",
   "pygments_lexer": "ipython3",
   "version": "3.12.4"
  }
 },
 "nbformat": 4,
 "nbformat_minor": 5
}
